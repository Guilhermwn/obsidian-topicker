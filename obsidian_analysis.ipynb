{
 "cells": [
  {
   "cell_type": "markdown",
   "metadata": {},
   "source": [
    "# Criação de Mapas de Conteúdo com base no título das notas\n",
    "\n",
    "### Bibliotecas necessárias\n",
    "Para usar esse recurso de criação de Mapas de Conteúdo com base nos títulos das notas no **Obsidian**, é necessário a importação das seguintes bibliotecas:\n",
    "- OS\n",
    "- Pathlib\n",
    "\n",
    "Ambas internas do sistema, quer dizer que já vem instaladas quando você instala o Python em sua máquina."
   ]
  },
  {
   "cell_type": "code",
   "execution_count": 59,
   "metadata": {},
   "outputs": [],
   "source": [
    "import os\n",
    "from pathlib import Path"
   ]
  },
  {
   "cell_type": "markdown",
   "metadata": {},
   "source": [
    "# Localização do Vault\n",
    "Criamos uma constante contendo o caminho da pasta onde as notas do **Vault** estão localizadas. Você pode definir qualquer pasta, mas a recomendada é a que contém todas as notas onde você deseja criar um *Mapa de Conteúdo*.\n",
    "\n",
    "Vejamos por exemplo uma situação onde você tem uma pasta apenas com conteúdo da sua universidade, e é de lá que você quer criar os Mapas de Conteúdo. Os mapas contendo tópicos como:\n",
    "- Cálculo\n",
    "- Álgebra\n",
    "- Física\n",
    "- ...\n",
    "\n",
    "Mas a pasta que você define na constante do caminho, é a pasta onde contém todas as notas presentes no seu Vault, não só as da universidade.\n",
    "\n",
    "Vamos tomar como exemplo que em algum lugar fora da pasta da universidade você por acaso criaou uma nota com o título \"Cálculo da meia vida de urânio\". Essa nota não tem nada a ver com os assuntos de cálculo da sua universidade, mas no nome dela tem a palavra \"Cálculo\", então de acordo com o método usado para criação dos MOCs, ela será incluída no seu Mapa de Conteúdo de Cálculo."
   ]
  },
  {
   "cell_type": "code",
   "execution_count": 60,
   "metadata": {},
   "outputs": [],
   "source": [
    "VAULT_DIR = Path('c:/Users/Guilherme Freire/Anotações/Zone of Knowledge')"
   ]
  },
  {
   "cell_type": "markdown",
   "metadata": {},
   "source": [
    "### Árvore de arquivos\n",
    "É alocado em uma lista os nomes dos arquivos **Markdown**, no caso as notas do seu vault, dentro da pasta definida como a constante do caminho do vault."
   ]
  },
  {
   "cell_type": "code",
   "execution_count": 61,
   "metadata": {},
   "outputs": [],
   "source": [
    "file_tree = []\n",
    "for root, dirs, files in os.walk(VAULT_DIR):\n",
    "    for file in files:\n",
    "        if file.endswith('.md'):\n",
    "            file_tree.append(file)"
   ]
  },
  {
   "cell_type": "markdown",
   "metadata": {},
   "source": [
    "### Classe Topicker\n",
    "Topicker ou Topic Picker, é a classe que vai receber as informações e criar os Mapas de conteúdos, utilizando suas funções internas."
   ]
  },
  {
   "cell_type": "code",
   "execution_count": 62,
   "metadata": {},
   "outputs": [],
   "source": [
    "# Classe que recebe um nome de título e uma lista de tópicos\n",
    "class Topicker():\n",
    "    def __init__(self,nome,content):\n",
    "        self.nome = nome\n",
    "        self.content = content\n",
    "\n",
    "    def listContent(self):\n",
    "        for item in self.content:\n",
    "            print(item)\n",
    "    def MOC_name(self):\n",
    "        print(self.nome)\n",
    "\n",
    "    def makeMOC(self,files, folder):\n",
    "        moc_name = self.nome\n",
    "        moc_path = Path(folder)\n",
    "        file_name = moc_path/f'MOC {moc_name}.md'\n",
    "\n",
    "        if not os.path.exists(moc_path):\n",
    "            os.makedirs(moc_path)\n",
    "\n",
    "        with open(file_name, 'w', encoding='utf-8') as f:\n",
    "            for header in self.content:\n",
    "                f.write(f\"\\n# {header}\\n\\n\")\n",
    "                for file in files:\n",
    "                    if header.lower() in file.lower():\n",
    "                        f.write(f'[[{file}]]\\n')"
   ]
  },
  {
   "cell_type": "markdown",
   "metadata": {},
   "source": [
    "### Caminho para os MOCs\n",
    "Essa variável vai receber o caminho onde serão alocados os arquivos criados dos MOCs."
   ]
  },
  {
   "cell_type": "code",
   "execution_count": 63,
   "metadata": {},
   "outputs": [],
   "source": [
    "moc_path = VAULT_DIR/\"00 Maps Of Content\""
   ]
  },
  {
   "cell_type": "markdown",
   "metadata": {},
   "source": [
    "### Tópicos\n",
    "Essa variável recebe uma \"matriz\" com os nomes dos tópicos os quais serão usados para a criação dos MOCs.\n",
    "\n",
    "#### Nested Topics\n",
    "Uma matriz contendo mais de um tópico para um mesmo MOC. A primeira lista da `nested_topics` é a lista que contém os nomes dos MOCs que serão criados com os tópicos das listas seguintes.\n",
    "\n",
    "#### Single Topics\n",
    "Uma matriz que irá ter apenas um único tópico por MOC. Os MOCs terão os mesmos nomes dos tópicos."
   ]
  },
  {
   "cell_type": "code",
   "execution_count": 64,
   "metadata": {},
   "outputs": [],
   "source": [
    "nested_topics = [\n",
    "    [\"UFS\", \"UFS Extracurricular\", \"CMD\", \"Documentação\", \"Textual\",\"Informação\", \"Coding\", \"Softwares\", \"Tech\", \"Utilidades\"],\n",
    "    [\"UFS\", \"Álgebra\", \"Cálculo\",\"Física\", \"Microcontroladores\"], # UFS\n",
    "    [\"AeroDrop\", \"Caengel\", \"Instrumentação\", \"Minicurso\", \"SEMAC\"], # UFS Extracurricular\n",
    "    [\"CMD\"], # CMD\n",
    "    [\"Github\", \"Latex\", \"Markdown\", \"Mermaid\", \"Obsidian\"], # Documentação\n",
    "    [\"Artigo\", \"ENEM\"], # Textual\n",
    "    [\"Informação\"], # Informação\n",
    "    [\"Arduino\", \"Programação C\", \"ESP32\", \"Javascript\", \"Python\"], # Coding\n",
    "    [\"Excel\", \"Power Bi\"], # Softwares\n",
    "    [\"Tecnologia\", \"Inteligência Artificial\", \"Ocean Brasil\"], # Tech\n",
    "    [\"Utilidades\", \"Videos\"] # Utilidades\n",
    "]\n",
    "single_topics = [[\"Álgebra\"], \n",
    "                 [\"Cálculo\"],\n",
    "                 [\"Física\"], \n",
    "                 [\"Microcontroladores\"], \n",
    "                 [\"AeroDrop\"], \n",
    "                 [\"Instrumentação\"], \n",
    "                 [\"Python\"]]"
   ]
  },
  {
   "cell_type": "markdown",
   "metadata": {},
   "source": [
    "### Loops para criação dos MOCs\n",
    "Foi usado um simples loop para iterar pelas listas matrizes, para criar os Mapas de conteúdo."
   ]
  },
  {
   "cell_type": "code",
   "execution_count": 65,
   "metadata": {},
   "outputs": [],
   "source": [
    "# Criar Nested Topics\n",
    "for i in range(len(nested_topics[0])):\n",
    "    Topicker(nested_topics[0][i], nested_topics[i+1]).makeMOC(file_tree, moc_path)"
   ]
  },
  {
   "cell_type": "code",
   "execution_count": 66,
   "metadata": {},
   "outputs": [],
   "source": [
    "# Criar single topics\n",
    "for i in range(len(single_topics)):\n",
    "    Topicker(single_topics[i][0], single_topics[i]).makeMOC(file_tree, moc_path)"
   ]
  }
 ],
 "metadata": {
  "kernelspec": {
   "display_name": "Python 3",
   "language": "python",
   "name": "python3"
  },
  "language_info": {
   "codemirror_mode": {
    "name": "ipython",
    "version": 3
   },
   "file_extension": ".py",
   "mimetype": "text/x-python",
   "name": "python",
   "nbconvert_exporter": "python",
   "pygments_lexer": "ipython3",
   "version": "3.9.13"
  }
 },
 "nbformat": 4,
 "nbformat_minor": 2
}
